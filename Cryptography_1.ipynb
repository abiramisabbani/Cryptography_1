{
 "cells": [
  {
   "cell_type": "markdown",
   "id": "afff1ebd",
   "metadata": {},
   "source": [
    "# Elliptic Curve Cryptography"
   ]
  },
  {
   "cell_type": "markdown",
   "id": "29404cd1",
   "metadata": {},
   "source": [
    "$E: y = x^{3} + Ax + B$ such that $4A^3 - 27B^2 \\neq 0$"
   ]
  },
  {
   "cell_type": "markdown",
   "id": "495f6436",
   "metadata": {},
   "source": [
    "### Key generation for elliptic curves - Diffie-Hellman"
   ]
  },
  {
   "cell_type": "markdown",
   "id": "c72d3c35",
   "metadata": {},
   "source": [
    "The goal of key generation is to securely establish a channel and create a public key for symmetric key algorithms. It is used for encryption, password authentication for preventing man-in-the-middle attacks, and in forward secrecy based protocols to protect against key compromise by constantly generating new key pairs for each session. "
   ]
  },
  {
   "cell_type": "markdown",
   "id": "fafd6d57",
   "metadata": {},
   "source": [
    "The function `elliptic_curve_dh_part1` produces a public key."
   ]
  },
  {
   "cell_type": "code",
   "execution_count": 36,
   "id": "c2105c11",
   "metadata": {},
   "outputs": [],
   "source": [
    "def elliptic_curve_dh_part1(p,A,B,P1,k):\n",
    "    if (not(p.is_prime())):\n",
    "        return 'Invalid'\n",
    "    if ((4*power_mod(A, 3, p)+ 27*power_mod(B, 2, p)) % p == 0):\n",
    "        return 'Invalid'\n",
    "    if (not(power_mod(P[1],2,p) == (power_mod(P[0],3,p) + A*P[0] + B) % p)):\n",
    "        return 'Invalid'\n",
    "    F = GF(p)\n",
    "    E = EllipticCurve(F,[A,B])\n",
    "    dh_key = k*E(P)\n",
    "    if (dh_key == E(0)):\n",
    "        return 'Invalid'\n",
    "    return (dh_key[0], dh_key[1])"
   ]
  },
  {
   "cell_type": "markdown",
   "id": "54c407ce",
   "metadata": {},
   "source": [
    "### Elliptic Curve Diffie Hellman (ECDH)"
   ]
  },
  {
   "cell_type": "markdown",
   "id": "de31cf27",
   "metadata": {},
   "source": [
    "The `ECDH algorithm` outputs a private/public key pair."
   ]
  },
  {
   "cell_type": "code",
   "execution_count": 37,
   "id": "adf42eed",
   "metadata": {},
   "outputs": [],
   "source": [
    "def elliptic_curve_dh_part2(p,A,B,b,P1):\n",
    "    F = GF(p)\n",
    "    E = EllipticCurve(F, [A,B])\n",
    "    secret = b*E(P1) \n",
    "    return (ZZ(secret[0]),ZZ(secret[1]))"
   ]
  },
  {
   "cell_type": "markdown",
   "id": "c78b9e1f",
   "metadata": {},
   "source": [
    "### Elliptic Curve Digital Signature Algorithm (ECDSA)"
   ]
  },
  {
   "cell_type": "markdown",
   "id": "f84d02f5",
   "metadata": {},
   "source": [
    "The function `elliptic_curve_dsa_part1` outputs a prime $p$ and a point on the ellipitic curve, $(x,y)$. "
   ]
  },
  {
   "cell_type": "code",
   "execution_count": 38,
   "id": "79d8a1e3",
   "metadata": {},
   "outputs": [],
   "source": [
    "def elliptic_curve_dsa_part1(p1,A,B):\n",
    "    E = EllipticCurve(GF(p1),[A,B])\n",
    "    p = E.cardinal().factor()[1][0]\n",
    "    while(true): \n",
    "        G = E.random_element()\n",
    "        if(G.additive_order() % p == 0):\n",
    "            G = (G.additive_order() // p) * G\n",
    "            x = ZZ(G[0]) \n",
    "            y = ZZ(G[1]) \n",
    "            return(p, (x,y))"
   ]
  },
  {
   "cell_type": "markdown",
   "id": "fdbb51fd",
   "metadata": {},
   "source": [
    "This funciton `elliptic_curve_dsa_part2` outputs the signature, a tuple of pairs of integers, $((x,y),(xQ,yQ))$."
   ]
  },
  {
   "cell_type": "code",
   "execution_count": 39,
   "id": "d50196d6",
   "metadata": {},
   "outputs": [],
   "source": [
    "def elliptic_curve_dsa_part2(p1,p2,A,B,G,d,m):\n",
    "    F = GF(p2)\n",
    "    E = EllipticCurve(F,[A,B])\n",
    "    G = E(G)\n",
    "    if(G.additive_order() != p1):\n",
    "        return 'Invalid'\n",
    "    d = ZZ(randint(1,p1-1))\n",
    "    Q = d*G\n",
    "    if(m >= p1 or m >= p2):\n",
    "        return 'Invalid'\n",
    "    k = ephemeralkey(p1)\n",
    "    R = k*G \n",
    "    x = ZZ(R[0]) % p \n",
    "    y = ZZ((power_mod(k,-1,p1) * (m + x*d)) % p1)\n",
    "    xQ = ZZ(Q[0])\n",
    "    yQ = ZZ(Q[1])\n",
    "    return ((x,y),(xQ,yQ))"
   ]
  },
  {
   "cell_type": "markdown",
   "id": "05449940",
   "metadata": {},
   "source": [
    "The function `elliptic_curve_dsa_part3` outputs a true or false boolean value depending on whether the signature is valid or not."
   ]
  },
  {
   "cell_type": "code",
   "execution_count": 40,
   "id": "7e80c627",
   "metadata": {},
   "outputs": [],
   "source": [
    "def elliptic_curve_dsa_part3(p1,A,B,G,p2,Q,m,validation):\n",
    "    F = GF(p1)\n",
    "    E = EllipticCurve(F,[A,B])\n",
    "    G = E(G)\n",
    "    Q = E(Q)\n",
    "    F1 = GF(p2)\n",
    "    x = F1(validation[0])\n",
    "    y = F1(validation[1])\n",
    "    m = F1(m)\n",
    "    if(G.additive_order() != p2):\n",
    "        return 'Invalid'\n",
    "    C = ZZ((y^-1)*m)*G + ZZ((y^-1)*x)*Q\n",
    "    if(ZZ(C[0]) % p2 == validation[0] % p):\n",
    "        return True\n",
    "    else:\n",
    "        return False"
   ]
  },
  {
   "cell_type": "markdown",
   "id": "bfc3e75b",
   "metadata": {},
   "source": [
    "### Lenstra's elliptic curve factorization"
   ]
  },
  {
   "cell_type": "markdown",
   "id": "6b7884b2",
   "metadata": {},
   "source": [
    "The function `elliptic_curve_lenstra_part1` outputs a value $B$ satisfying the equation, $E: y = x^{3} + Ax + B$, where $B < N$, or returns `Invalid` if there is no such $B$."
   ]
  },
  {
   "cell_type": "code",
   "execution_count": 41,
   "id": "75562c2a",
   "metadata": {},
   "outputs": [],
   "source": [
    "def elliptic_curve_lenstra_part1(N,P1,A):\n",
    "    F = IntegerModRing(N)\n",
    "    x = ZZ(P1[0])\n",
    "    y = ZZ(P1[1])\n",
    "    B = (y^2 - x^3 - A*x) % N\n",
    "    E = EllipticCurve([F(A),F(B)])\n",
    "    if(E == EllipticCurve([F(A),F(B)])):\n",
    "        return ZZ(B % N)\n",
    "    else:\n",
    "        return 'Invalid'"
   ]
  },
  {
   "cell_type": "markdown",
   "id": "2e8d80c6",
   "metadata": {},
   "source": [
    "The function `ellipitc_curve_lenstra_part2` outputs the list of points for which $kP$ goes through, where $k$ is an integer, and $P$ is a point on the elliptic curve. "
   ]
  },
  {
   "cell_type": "code",
   "execution_count": 31,
   "id": "39aa1549",
   "metadata": {},
   "outputs": [],
   "source": [
    "def ellipitc_curve_lenstra_part2(N,A,B,P1,k):\n",
    "    F = IntegerModRing(N)\n",
    "    E = EllipticCurve(F,[A,B])\n",
    "    P1 = E(P1)\n",
    "    Points = []\n",
    "    P2 = P1\n",
    "    for j in range (2,k+1):\n",
    "        i = j\n",
    "        P3 = E(0,1,0)\n",
    "        P2 = Points[-1]\n",
    "        while i != 0: \n",
    "            if i%2 == 1:\n",
    "                try:\n",
    "                    P3 = P3 + P2 \n",
    "                except:\n",
    "                    if P3[0] == P2[0]:\n",
    "                        return ZZ(2*P3[1])\n",
    "                    else:\n",
    "                        return ZZ(P3[0] - P2[0])\n",
    "            if (P2 == P2+P2):\n",
    "                return P2\n",
    "            else:\n",
    "                return ZZ(2*P2[1])\n",
    "            i = i//2\n",
    "        Points.append(P3)\n",
    "    return Points"
   ]
  },
  {
   "cell_type": "markdown",
   "id": "aeab1c2e",
   "metadata": {},
   "source": [
    "The function `elliptic_curve_part3` combines the functions `elliptic_curve_lenstra_part1` and `elliptic_curve_lenstra_part2` by finding a $B < N$ and the list of points for which $kP$ goes through, where $k$ is an integer, and $P$ is a point on the elliptic curve. If all the computations of $kP$ go through, then `fails` is returned, else the gcd of $N$ and the integer which prevents the computations from going through is returned."
   ]
  },
  {
   "cell_type": "code",
   "execution_count": 32,
   "id": "c5a674af",
   "metadata": {},
   "outputs": [],
   "source": [
    "def elliptic_curve_part3(N,A,P1,k):\n",
    "    B = elliptic_curve_lenstra_part1(N,P1,A)\n",
    "    X = ellipitc_curve_lenstra_part2(N,A,B,P1,k)\n",
    "    if type(X) == list:\n",
    "        return 'fails'\n",
    "    else:\n",
    "        return gcd(X,N)"
   ]
  },
  {
   "cell_type": "markdown",
   "id": "07e47d77",
   "metadata": {},
   "source": [
    " ## Breaking the Merkle-Hellman knapsack"
   ]
  },
  {
   "cell_type": "markdown",
   "id": "a469691f",
   "metadata": {},
   "source": [
    "Bob’s public knapsack, given by $T = (t0, t1, . . . , tr−1)$, and Alice sends a message to Bob as a ciphertext block $C$ encrypted with $T$. If the attacker knows $T$ and $C$, they can break the cryptosystem if they can solve the matrix equation $TU = C$ where $U$ is a column matrix of $0s$ and $1s$.\n",
    "\n",
    "Lattice reduction is used to solve many different types of combinatorial problems.\n",
    "\n",
    "In 1982, Lenstra, Lenstra and Lovasz discovered the LLL algorithm for finding short vectors in a lattice."
   ]
  },
  {
   "cell_type": "markdown",
   "id": "5ed7fe41",
   "metadata": {},
   "source": [
    "The function `break_mh_part1` outputs a square matrix where the nonempty list $T$ of integers is appended to the matrix."
   ]
  },
  {
   "cell_type": "code",
   "execution_count": 34,
   "id": "3c98af67",
   "metadata": {},
   "outputs": [],
   "source": [
    "def break_mh_part1(T,C):\n",
    "    n = len(T) - 1\n",
    "    dimension = 2 + n\n",
    "    m = identity_matrix(dimension-1)\n",
    "    m2 = 2*m \n",
    "    rows1 = []\n",
    "    for i in range(dim-1):\n",
    "        rows1.append(1)\n",
    "    rows1.append(C)\n",
    "    v1 = vector((T))\n",
    "    m3 = m2.augment(v1)\n",
    "    m4 = m3.insert_row(dimension-1, (rows1))\n",
    "    return m4"
   ]
  },
  {
   "cell_type": "markdown",
   "id": "de530672",
   "metadata": {},
   "source": [
    "The function `break_mh_part2` finds a $b$ such that the product of $b$ and the matrix, $M$ (set using `break_mh_part1`), is the shortest row in the matrix, $ML$ (created by the `LLL` algorithm). The function outputs a binary sequence where $1$ corresponds to a $-1$ in $b$ and a $0$ corresponds to a $0$ in $b$."
   ]
  },
  {
   "cell_type": "code",
   "execution_count": 35,
   "id": "6e1fb707",
   "metadata": {},
   "outputs": [],
   "source": [
    "def break_mh_part2(T,C):\n",
    "    M = break_mh_part1(T,C)\n",
    "    ML = M.LLL() \n",
    "    a = ML[0]\n",
    "    aNorm = norm(a)\n",
    "    for r in ML.rows():\n",
    "         if norm(r) < aNorm:\n",
    "            aNorm = norm(r)\n",
    "            a = r\n",
    "    b = M.solve_left(a)\n",
    "    for i in range (len(v) - 1):\n",
    "        lst = []\n",
    "        if b[i] == -1:\n",
    "            lst.append(ZZ(1))\n",
    "        elif b[i] == 0:\n",
    "            lst.append(ZZ(0))\n",
    "    return lst"
   ]
  }
 ],
 "metadata": {
  "kernelspec": {
   "display_name": "Python 3",
   "language": "python",
   "name": "python3"
  },
  "language_info": {
   "codemirror_mode": {
    "name": "ipython",
    "version": 3
   },
   "file_extension": ".py",
   "mimetype": "text/x-python",
   "name": "python",
   "nbconvert_exporter": "python",
   "pygments_lexer": "ipython3",
   "version": "3.8.8"
  }
 },
 "nbformat": 4,
 "nbformat_minor": 5
}
